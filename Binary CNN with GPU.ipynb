{
 "cells": [
  {
   "cell_type": "markdown",
   "metadata": {},
   "source": [
    "## Imports"
   ]
  },
  {
   "cell_type": "code",
   "execution_count": 28,
   "metadata": {},
   "outputs": [],
   "source": [
    "import numpy as np\n",
    "import tensorflow as tf\n",
    "from os import listdir\n",
    "import cv2 \n",
    "from keras.models import Sequential\n",
    "from keras.layers import Dense, Dropout, Activation, Flatten\n",
    "from keras.layers.convolutional import Conv2D, MaxPooling2D\n",
    "from keras.preprocessing import image\n",
    "from keras.preprocessing.image import img_to_array\n",
    "from keras.backend.tensorflow_backend import set_session\n",
    "from sklearn.preprocessing import LabelBinarizer\n",
    "from sklearn.model_selection import train_test_split\n",
    "import matplotlib.pyplot as plt\n",
    "import warnings\n",
    "\n",
    "warnings.filterwarnings('ignore')\n",
    "%matplotlib inline"
   ]
  },
  {
   "cell_type": "code",
   "execution_count": 2,
   "metadata": {},
   "outputs": [
    {
     "name": "stdout",
     "output_type": "stream",
     "text": [
      "[name: \"/device:CPU:0\"\n",
      "device_type: \"CPU\"\n",
      "memory_limit: 268435456\n",
      "locality {\n",
      "}\n",
      "incarnation: 2498619956445348742\n",
      ", name: \"/device:GPU:0\"\n",
      "device_type: \"GPU\"\n",
      "memory_limit: 6696213545\n",
      "locality {\n",
      "  bus_id: 1\n",
      "  links {\n",
      "  }\n",
      "}\n",
      "incarnation: 6529009566492182273\n",
      "physical_device_desc: \"device: 0, name: GeForce GTX 1070, pci bus id: 0000:01:00.0, compute capability: 6.1\"\n",
      "]\n"
     ]
    }
   ],
   "source": [
    "# The proof is in the pudding... Checking if TF is running on my GPU or CPU\n",
    "from tensorflow.python.client import device_lib\n",
    "print(device_lib.list_local_devices())"
   ]
  },
  {
   "cell_type": "code",
   "execution_count": 3,
   "metadata": {},
   "outputs": [],
   "source": [
    "# This code solution from https://github.com/keras-team/keras/issues/4161 -- it will allow my GPU to dynamically\n",
    "# grow its memory and not crash when fitting my models.\n",
    "import tensorflow as tf\n",
    "from keras.backend.tensorflow_backend import set_session\n",
    "config = tf.ConfigProto()\n",
    "config.gpu_options.allow_growth = True  # dynamically grow the memory used on the GPU\n",
    "config.log_device_placement = True  # to log device placement (on which device the operation ran)\n",
    "                                    # (nothing gets printed in Jupyter, only if you run it standalone)\n",
    "sess = tf.Session(config=config)\n",
    "set_session(sess)  # set this TensorFlow session as the default session for Keras"
   ]
  },
  {
   "cell_type": "markdown",
   "metadata": {},
   "source": [
    "## Functions"
   ]
  },
  {
   "cell_type": "code",
   "execution_count": 4,
   "metadata": {},
   "outputs": [],
   "source": [
    "# This code inspired by muliple different CV2 uses on Stackoverflow and Kaggle\n",
    "image_size = tuple((128, 128)) #Specify what size you want your images to be here\n",
    "# The following function will convert all my images to arrays\n",
    "def arrayify(image_directory):\n",
    "    try:\n",
    "        image = cv2.imread(image_directory) # This will read in an image from the image directory\n",
    "        if image is not None: #If the image exists, do the following:\n",
    "            image = cv2.resize(image, image_size) # Resize the image to whatever image_size is defined as\n",
    "            return img_to_array(image)\n",
    "        else:\n",
    "            return np.array([]) #Else... return an empty array (doing this mostly to prevent NaNs\n",
    "                                # and other forms of data implosion)\n",
    "    except Exception: #If there is an error...\n",
    "        print (f\"Nope!! {Exception}\") #Let me know\n",
    "        return None "
   ]
  },
  {
   "cell_type": "code",
   "execution_count": 5,
   "metadata": {},
   "outputs": [],
   "source": [
    "# This code inspired by multiple different instances and examples of image preprocessing on\n",
    "# Stackoverflow, Kaggle, and from General Assembly lesson examples\n",
    "def process_images(image_directory): \n",
    "    #Let's instantiate some lists!\n",
    "    image_list = []\n",
    "    label_list = []\n",
    "    try:\n",
    "        print(\"Loading Images ༼ つ ◕_◕ ༽つ\")\n",
    "        actual_folder = listdir(image_directory) # listdir will give me the directory for every folder\n",
    "            # in the given directory, I can then use these directories in my function\n",
    "        for folder in actual_folder:  \n",
    "            if folder == \".DS_Store\": #I don't want .DS_Store to be called for this function\n",
    "                actual_folder.remove(folder)\n",
    "        for image_folder in actual_folder: # For each specific image folder in the main folder...\n",
    "            print(f\"Processing {image_folder}...\")\n",
    "            formatted_image_list = listdir(f\"{image_directory}/{image_folder}/\") #Pull the images out and put them in a list\n",
    "            for image in formatted_image_list: #For each image in the image list\n",
    "                if image == \".DS_Store\":\n",
    "                    formatted_image_list.remove(image)\n",
    "            for image in formatted_image_list:\n",
    "                specific_image = f\"{image_directory}/{image_folder}/{image}\" #Create a specific image\n",
    "                # Variable\n",
    "                if specific_image.lower().endswith(\".jpg\") == True: #So long as the directory ends with\n",
    "                    # .jpg, do the following\n",
    "                    resized_array = arrayify(specific_image) # call the arrayify function on the image\n",
    "                    image_list.append(resized_array) # append the resized array to the image_list var\n",
    "                    label_list.append(image_folder) # Add the folder that the image came from as its \"label\"\n",
    "        print(\"Processing Complete\")\n",
    "        return image_list, label_list\n",
    "                    \n",
    "                \n",
    "                \n",
    "                \n",
    "                    \n",
    "    except: #If there is an error...\n",
    "        print (f\"Nope!! {Exception}\") #Let me know\n",
    "        return None "
   ]
  },
  {
   "cell_type": "markdown",
   "metadata": {},
   "source": [
    "## Processing Image Directories"
   ]
  },
  {
   "cell_type": "code",
   "execution_count": 6,
   "metadata": {},
   "outputs": [
    {
     "name": "stdout",
     "output_type": "stream",
     "text": [
      "Loading Images ༼ つ ◕_◕ ༽つ\n",
      "Processing Pepper__bell___Bacterial_spot...\n",
      "Processing Pepper__bell___healthy...\n",
      "Processing Potato___Early_blight...\n",
      "Processing Potato___healthy...\n",
      "Processing Potato___Late_blight...\n",
      "Processing Tomato_Bacterial_spot...\n",
      "Processing Tomato_Early_blight...\n",
      "Processing Tomato_healthy...\n",
      "Processing Tomato_Late_blight...\n",
      "Processing Tomato_Leaf_Mold...\n",
      "Processing Tomato_Septoria_leaf_spot...\n",
      "Processing Tomato_Spider_mites_Two_spotted_spider_mite...\n",
      "Processing Tomato__Target_Spot...\n",
      "Processing Tomato__Tomato_mosaic_virus...\n",
      "Processing Tomato__Tomato_YellowLeaf__Curl_Virus...\n",
      "Processing Complete\n"
     ]
    }
   ],
   "source": [
    "plant_village_arrays, plant_village_labels = process_images(\"./Images/PlantVillage\")"
   ]
  },
  {
   "cell_type": "code",
   "execution_count": 7,
   "metadata": {},
   "outputs": [
    {
     "name": "stdout",
     "output_type": "stream",
     "text": [
      "Processed 20636 Images from the Plantvillage Dataset, Size (128, 128)\n",
      "Labels for the Plantvillage Dataset are as follows: \n",
      " {'Pepper__bell___healthy', 'Tomato_healthy', 'Tomato_Early_blight', 'Tomato_Late_blight', 'Tomato_Spider_mites_Two_spotted_spider_mite', 'Tomato_Leaf_Mold', 'Pepper__bell___Bacterial_spot', 'Tomato_Bacterial_spot', 'Tomato_Septoria_leaf_spot', 'Tomato__Target_Spot', 'Potato___healthy', 'Potato___Early_blight', 'Tomato__Tomato_YellowLeaf__Curl_Virus', 'Potato___Late_blight', 'Tomato__Tomato_mosaic_virus'}\n"
     ]
    }
   ],
   "source": [
    "print(f\"Processed {len(plant_village_arrays)} Images from the Plantvillage Dataset, Size {image_size}\")\n",
    "print(f\"Labels for the Plantvillage Dataset are as follows: \\n {set(plant_village_labels)}\")"
   ]
  },
  {
   "cell_type": "code",
   "execution_count": 8,
   "metadata": {},
   "outputs": [
    {
     "name": "stdout",
     "output_type": "stream",
     "text": [
      "Loading Images ༼ つ ◕_◕ ༽つ\n",
      "Processing rice_Brown_Spot...\n",
      "Processing rice_Healthy...\n",
      "Processing rice_Hispa...\n",
      "Processing rice_Leaf_Blast...\n",
      "Processing Complete\n"
     ]
    }
   ],
   "source": [
    "rice_arrays, rice_labels = process_images('./Images/Rice')"
   ]
  },
  {
   "cell_type": "code",
   "execution_count": 9,
   "metadata": {
    "scrolled": true
   },
   "outputs": [
    {
     "name": "stdout",
     "output_type": "stream",
     "text": [
      "Processed 3355 Images from the Rice Dataset, Size (128, 128)\n",
      "Labels for the Rice Dataset are as follows: \n",
      " {'rice_Healthy', 'rice_Leaf_Blast', 'rice_Brown_Spot', 'rice_Hispa'}\n"
     ]
    }
   ],
   "source": [
    "print(f\"Processed {len(rice_arrays)} Images from the Rice Dataset, Size {image_size}\")\n",
    "print(f\"Labels for the Rice Dataset are as follows: \\n {set(rice_labels)}\")"
   ]
  },
  {
   "cell_type": "code",
   "execution_count": 10,
   "metadata": {},
   "outputs": [],
   "source": [
    "# Combining my Arrays and Labels\n",
    "combined_arrays = plant_village_arrays + rice_arrays\n",
    "combined_labels = plant_village_labels + rice_labels"
   ]
  },
  {
   "cell_type": "code",
   "execution_count": 11,
   "metadata": {},
   "outputs": [
    {
     "data": {
      "text/plain": [
       "23991"
      ]
     },
     "execution_count": 11,
     "metadata": {},
     "output_type": "execute_result"
    }
   ],
   "source": [
    "len(combined_labels)"
   ]
  },
  {
   "cell_type": "code",
   "execution_count": 12,
   "metadata": {
    "scrolled": true
   },
   "outputs": [
    {
     "data": {
      "text/plain": [
       "23991"
      ]
     },
     "execution_count": 12,
     "metadata": {},
     "output_type": "execute_result"
    }
   ],
   "source": [
    "labels_bin = []\n",
    "for label in combined_labels:\n",
    "    if label.lower().endswith(\"healthy\"):\n",
    "        label = 0\n",
    "        labels_bin.append(label)\n",
    "        \n",
    "    else:\n",
    "        label = 1\n",
    "        labels_bin.append(label)\n",
    "        \n",
    "len(labels_bin)"
   ]
  },
  {
   "cell_type": "markdown",
   "metadata": {},
   "source": [
    "## Binary CNN with combined Image Datasets"
   ]
  },
  {
   "cell_type": "code",
   "execution_count": 13,
   "metadata": {},
   "outputs": [],
   "source": [
    "# Defining my X and y vars\n",
    "X = combined_arrays\n",
    "y = labels_bin"
   ]
  },
  {
   "cell_type": "code",
   "execution_count": 14,
   "metadata": {},
   "outputs": [],
   "source": [
    "# Train test split!\n",
    "X_train, X_test, y_train, y_test = train_test_split(X, y, test_size =0.2, random_state =42)"
   ]
  },
  {
   "cell_type": "code",
   "execution_count": 15,
   "metadata": {},
   "outputs": [],
   "source": [
    "# Converting X_train and X_test into float arrays so they can be normalized\n",
    "X_train = np.array(X_train, dtype=np.float32)\n",
    "X_test = np.array(X_test, dtype=np.float32)"
   ]
  },
  {
   "cell_type": "code",
   "execution_count": 16,
   "metadata": {},
   "outputs": [],
   "source": [
    "# Normalizing X_train and X_test\n",
    "X_train /= 255\n",
    "X_test /= 255"
   ]
  },
  {
   "cell_type": "code",
   "execution_count": 17,
   "metadata": {},
   "outputs": [
    {
     "name": "stderr",
     "output_type": "stream",
     "text": [
      "WARNING: Logging before flag parsing goes to stderr.\n",
      "W0824 21:47:05.616756  3692 deprecation_wrapper.py:119] From C:\\Users\\JoeRo\\Anaconda3\\envs\\keras_gpu\\lib\\site-packages\\keras\\backend\\tensorflow_backend.py:74: The name tf.get_default_graph is deprecated. Please use tf.compat.v1.get_default_graph instead.\n",
      "\n",
      "W0824 21:47:05.618752  3692 deprecation_wrapper.py:119] From C:\\Users\\JoeRo\\Anaconda3\\envs\\keras_gpu\\lib\\site-packages\\keras\\backend\\tensorflow_backend.py:517: The name tf.placeholder is deprecated. Please use tf.compat.v1.placeholder instead.\n",
      "\n",
      "W0824 21:47:05.636703  3692 deprecation_wrapper.py:119] From C:\\Users\\JoeRo\\Anaconda3\\envs\\keras_gpu\\lib\\site-packages\\keras\\backend\\tensorflow_backend.py:4138: The name tf.random_uniform is deprecated. Please use tf.random.uniform instead.\n",
      "\n",
      "W0824 21:47:05.668616  3692 deprecation_wrapper.py:119] From C:\\Users\\JoeRo\\Anaconda3\\envs\\keras_gpu\\lib\\site-packages\\keras\\backend\\tensorflow_backend.py:3976: The name tf.nn.max_pool is deprecated. Please use tf.nn.max_pool2d instead.\n",
      "\n",
      "W0824 21:47:05.671609  3692 deprecation_wrapper.py:119] From C:\\Users\\JoeRo\\Anaconda3\\envs\\keras_gpu\\lib\\site-packages\\keras\\backend\\tensorflow_backend.py:133: The name tf.placeholder_with_default is deprecated. Please use tf.compat.v1.placeholder_with_default instead.\n",
      "\n",
      "W0824 21:47:05.680587  3692 deprecation.py:506] From C:\\Users\\JoeRo\\Anaconda3\\envs\\keras_gpu\\lib\\site-packages\\keras\\backend\\tensorflow_backend.py:3445: calling dropout (from tensorflow.python.ops.nn_ops) with keep_prob is deprecated and will be removed in a future version.\n",
      "Instructions for updating:\n",
      "Please use `rate` instead of `keep_prob`. Rate should be set to `rate = 1 - keep_prob`.\n",
      "W0824 21:47:05.822713  3692 deprecation_wrapper.py:119] From C:\\Users\\JoeRo\\Anaconda3\\envs\\keras_gpu\\lib\\site-packages\\keras\\optimizers.py:790: The name tf.train.Optimizer is deprecated. Please use tf.compat.v1.train.Optimizer instead.\n",
      "\n",
      "W0824 21:47:05.865105  3692 deprecation_wrapper.py:119] From C:\\Users\\JoeRo\\Anaconda3\\envs\\keras_gpu\\lib\\site-packages\\keras\\backend\\tensorflow_backend.py:3376: The name tf.log is deprecated. Please use tf.math.log instead.\n",
      "\n",
      "W0824 21:47:05.870092  3692 deprecation.py:323] From C:\\Users\\JoeRo\\Anaconda3\\envs\\keras_gpu\\lib\\site-packages\\tensorflow\\python\\ops\\nn_impl.py:180: add_dispatch_support.<locals>.wrapper (from tensorflow.python.ops.array_ops) is deprecated and will be removed in a future version.\n",
      "Instructions for updating:\n",
      "Use tf.where in 2.0, which has the same broadcast rule as np.where\n"
     ]
    }
   ],
   "source": [
    "# Transformed Image Size is what determines these variables \n",
    "width = 128\n",
    "height = 128\n",
    "depth = 3\n",
    "\n",
    "# Model Instantiation\n",
    "model = Sequential()\n",
    "\n",
    "# Input\n",
    "model.add(Conv2D(32, (3,3), input_shape = (width, height, depth)))\n",
    "model.add(Activation(\"relu\"))\n",
    "model.add(MaxPooling2D(pool_size=(3,3)))\n",
    "model.add(Dropout(0.25))\n",
    "\n",
    "# Second Layer\n",
    "model.add(Conv2D(64, (3,3)))\n",
    "model.add(Activation(\"relu\"))\n",
    "model.add(Dropout(0.25))\n",
    "\n",
    "# Third Layer\n",
    "model.add(Conv2D(128, (3,3)))\n",
    "model.add(Activation(\"relu\"))\n",
    "model.add(MaxPooling2D(pool_size=(2,2)))\n",
    "model.add(Dropout(0.25))\n",
    "\n",
    "# Flatten It\n",
    "model.add(Flatten())\n",
    "\n",
    "# Fourth Layer \n",
    "model.add(Dense(128))\n",
    "model.add(Activation(\"relu\"))\n",
    "\n",
    "#Fifth Layer\n",
    "model.add(Dense(64))\n",
    "model.add(Activation(\"relu\"))\n",
    "\n",
    "# Final Output Layer\n",
    "model.add(Dense(1))\n",
    "model.add(Activation(\"sigmoid\"))\n",
    "\n",
    "\n",
    "# Compile the Model\n",
    "model.compile(loss='binary_crossentropy',\n",
    "                       optimizer='adam',\n",
    "                       metrics=['accuracy'])\n"
   ]
  },
  {
   "cell_type": "code",
   "execution_count": 18,
   "metadata": {},
   "outputs": [
    {
     "name": "stdout",
     "output_type": "stream",
     "text": [
      "Train on 19192 samples, validate on 4799 samples\n",
      "Epoch 1/25\n",
      "19192/19192 [==============================] - 34s 2ms/step - loss: 0.3534 - acc: 0.8343 - val_loss: 0.2197 - val_acc: 0.8883\n",
      "Epoch 2/25\n",
      "19192/19192 [==============================] - 20s 1ms/step - loss: 0.2134 - acc: 0.8951 - val_loss: 0.1575 - val_acc: 0.9214\n",
      "Epoch 3/25\n",
      "19192/19192 [==============================] - 20s 1ms/step - loss: 0.1733 - acc: 0.9173 - val_loss: 0.1467 - val_acc: 0.9296\n",
      "Epoch 4/25\n",
      "19192/19192 [==============================] - 20s 1ms/step - loss: 0.1518 - acc: 0.9287 - val_loss: 0.1433 - val_acc: 0.9256\n",
      "Epoch 5/25\n",
      "19192/19192 [==============================] - 20s 1ms/step - loss: 0.1340 - acc: 0.9361 - val_loss: 0.1575 - val_acc: 0.9239\n",
      "Epoch 6/25\n",
      "19192/19192 [==============================] - 20s 1ms/step - loss: 0.1106 - acc: 0.9477 - val_loss: 0.1345 - val_acc: 0.9262\n",
      "Epoch 7/25\n",
      "19192/19192 [==============================] - 20s 1ms/step - loss: 0.1092 - acc: 0.9477 - val_loss: 0.2050 - val_acc: 0.9089\n",
      "Epoch 8/25\n",
      "19192/19192 [==============================] - 20s 1ms/step - loss: 0.1022 - acc: 0.9531 - val_loss: 0.2116 - val_acc: 0.8987\n",
      "Epoch 9/25\n",
      "19192/19192 [==============================] - 20s 1ms/step - loss: 0.0894 - acc: 0.9583 - val_loss: 0.1992 - val_acc: 0.9156\n",
      "Epoch 10/25\n",
      "19192/19192 [==============================] - 20s 1ms/step - loss: 0.0893 - acc: 0.9603 - val_loss: 0.1647 - val_acc: 0.9317\n",
      "Epoch 11/25\n",
      "19192/19192 [==============================] - 20s 1ms/step - loss: 0.0770 - acc: 0.9643 - val_loss: 0.1397 - val_acc: 0.9364\n",
      "Epoch 12/25\n",
      "19192/19192 [==============================] - 20s 1ms/step - loss: 0.0687 - acc: 0.9702 - val_loss: 0.1861 - val_acc: 0.9264\n",
      "Epoch 13/25\n",
      "19192/19192 [==============================] - 20s 1ms/step - loss: 0.0679 - acc: 0.9696 - val_loss: 0.1719 - val_acc: 0.9327\n",
      "Epoch 14/25\n",
      "19192/19192 [==============================] - 20s 1ms/step - loss: 0.0572 - acc: 0.9747 - val_loss: 0.1862 - val_acc: 0.9242\n",
      "Epoch 15/25\n",
      "19192/19192 [==============================] - 20s 1ms/step - loss: 0.0574 - acc: 0.9765 - val_loss: 0.2369 - val_acc: 0.9091\n",
      "Epoch 16/25\n",
      "19192/19192 [==============================] - 20s 1ms/step - loss: 0.0448 - acc: 0.9824 - val_loss: 0.1716 - val_acc: 0.9344\n",
      "Epoch 17/25\n",
      "19192/19192 [==============================] - 20s 1ms/step - loss: 0.0473 - acc: 0.9805 - val_loss: 0.1671 - val_acc: 0.9398\n",
      "Epoch 18/25\n",
      "19192/19192 [==============================] - 20s 1ms/step - loss: 0.0540 - acc: 0.9803 - val_loss: 0.1881 - val_acc: 0.9383\n",
      "Epoch 19/25\n",
      "19192/19192 [==============================] - 20s 1ms/step - loss: 0.0316 - acc: 0.9878 - val_loss: 0.2012 - val_acc: 0.9423\n",
      "Epoch 20/25\n",
      "19192/19192 [==============================] - 20s 1ms/step - loss: 0.0311 - acc: 0.9884 - val_loss: 0.2180 - val_acc: 0.9402\n",
      "Epoch 21/25\n",
      "19192/19192 [==============================] - 20s 1ms/step - loss: 0.0324 - acc: 0.9881 - val_loss: 0.2297 - val_acc: 0.9333\n",
      "Epoch 22/25\n",
      "19192/19192 [==============================] - 20s 1ms/step - loss: 0.0321 - acc: 0.9874 - val_loss: 0.1904 - val_acc: 0.9371\n",
      "Epoch 23/25\n",
      "19192/19192 [==============================] - 20s 1ms/step - loss: 0.0251 - acc: 0.9907 - val_loss: 0.2372 - val_acc: 0.9360\n",
      "Epoch 24/25\n",
      "19192/19192 [==============================] - 20s 1ms/step - loss: 0.0201 - acc: 0.9939 - val_loss: 0.2650 - val_acc: 0.9408\n",
      "Epoch 25/25\n",
      "19192/19192 [==============================] - 20s 1ms/step - loss: 0.0285 - acc: 0.9897 - val_loss: 0.2760 - val_acc: 0.9371\n"
     ]
    }
   ],
   "source": [
    "history = model.fit(X_train, y_train, \n",
    "                    batch_size=32, \n",
    "                    validation_data=(X_test, y_test), \n",
    "                    epochs=25, \n",
    "                    verbose=1)"
   ]
  },
  {
   "cell_type": "markdown",
   "metadata": {},
   "source": [
    "## Analysis\n",
    "- I am VERY happy with this binary score. What this is telling me is that my NNs are able to pretty accurately report whether or not a plant is healthy or sick. "
   ]
  },
  {
   "cell_type": "code",
   "execution_count": 34,
   "metadata": {},
   "outputs": [
    {
     "data": {
      "image/png": "[encoded data removed]",
      "text/plain": [
       "<Figure size 864x576 with 1 Axes>"
      ]
     },
     "metadata": {
      "needs_background": "light"
     },
     "output_type": "display_data"
    }
   ],
   "source": [
    "# Check out our train loss and test loss over epochs.\n",
    "train_loss = history.history['loss']\n",
    "test_loss = history.history['val_loss']\n",
    "\n",
    "# Set figure size.\n",
    "plt.figure(figsize=(12, 8))\n",
    "\n",
    "# Generate line plot of training, testing loss over epochs.\n",
    "plt.plot(train_loss, label='Training Loss', color='b')\n",
    "plt.plot(test_loss, label='Testing Loss', color='r')\n",
    "\n",
    "# Set title\n",
    "plt.title('Training and Testing Loss', fontsize = 25)\n",
    "plt.xlabel('Epoch', fontsize = 18)\n",
    "plt.ylabel('Binary Crossentropy', fontsize = 18)\n",
    "plt.xticks(range(20));\n"
   ]
  },
  {
   "cell_type": "code",
   "execution_count": null,
   "metadata": {},
   "outputs": [],
   "source": []
  }
 ],
 "metadata": {
  "kernelspec": {
   "display_name": "Keras-GPU",
   "language": "python",
   "name": "keras_gpu"
  },
  "language_info": {
   "codemirror_mode": {
    "name": "ipython",
    "version": 3
   },
   "file_extension": ".py",
   "mimetype": "text/x-python",
   "name": "python",
   "nbconvert_exporter": "python",
   "pygments_lexer": "ipython3",
   "version": "3.7.4"
  }
 },
 "nbformat": 4,
 "nbformat_minor": 2
}
