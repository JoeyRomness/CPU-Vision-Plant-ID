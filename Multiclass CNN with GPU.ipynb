{
 "cells": [
  {
   "cell_type": "markdown",
   "metadata": {},
   "source": [
    "## Imports"
   ]
  },
  {
   "cell_type": "code",
   "execution_count": 1,
   "metadata": {},
   "outputs": [
    {
     "name": "stderr",
     "output_type": "stream",
     "text": [
      "Using TensorFlow backend.\n"
     ]
    }
   ],
   "source": [
    "import numpy as np\n",
    "import tensorflow as tf\n",
    "from os import listdir\n",
    "import matplotlib.pyplot as plt\n",
    "import cv2 \n",
    "from keras.models import Sequential\n",
    "from keras.layers import Dense, Dropout, Activation, Flatten\n",
    "from keras.layers.convolutional import Conv2D, MaxPooling2D\n",
    "from keras.preprocessing import image\n",
    "from keras.preprocessing.image import img_to_array\n",
    "from keras.backend.tensorflow_backend import set_session\n",
    "from sklearn.preprocessing import LabelBinarizer\n",
    "from sklearn.model_selection import train_test_split\n",
    "import warnings\n",
    "\n",
    "warnings.filterwarnings('ignore')\n",
    "%matplotlib inline"
   ]
  },
  {
   "cell_type": "code",
   "execution_count": 2,
   "metadata": {
    "scrolled": false
   },
   "outputs": [
    {
     "name": "stdout",
     "output_type": "stream",
     "text": [
      "[name: \"/device:CPU:0\"\n",
      "device_type: \"CPU\"\n",
      "memory_limit: 268435456\n",
      "locality {\n",
      "}\n",
      "incarnation: 5523962154048887789\n",
      ", name: \"/device:GPU:0\"\n",
      "device_type: \"GPU\"\n",
      "memory_limit: 6696213545\n",
      "locality {\n",
      "  bus_id: 1\n",
      "  links {\n",
      "  }\n",
      "}\n",
      "incarnation: 2205909154009514757\n",
      "physical_device_desc: \"device: 0, name: GeForce GTX 1070, pci bus id: 0000:01:00.0, compute capability: 6.1\"\n",
      "]\n"
     ]
    }
   ],
   "source": [
    "# The proof is in the pudding... Checking if TF is running on my GPU or CPU\n",
    "from tensorflow.python.client import device_lib\n",
    "print(device_lib.list_local_devices())"
   ]
  },
  {
   "cell_type": "code",
   "execution_count": 3,
   "metadata": {},
   "outputs": [],
   "source": [
    "# This code solution from https://github.com/keras-team/keras/issues/4161 -- it will allow my GPU to dynamically\n",
    "# grow its memory and not crash when fitting my models.\n",
    "import tensorflow as tf\n",
    "from keras.backend.tensorflow_backend import set_session\n",
    "config = tf.ConfigProto()\n",
    "config.gpu_options.allow_growth = True  # dynamically grow the memory used on the GPU\n",
    "config.log_device_placement = True  # to log device placement (on which device the operation ran)\n",
    "                                    # (nothing gets printed in Jupyter, only if you run it standalone)\n",
    "sess = tf.Session(config=config)\n",
    "set_session(sess)  # set this TensorFlow session as the default session for Keras"
   ]
  },
  {
   "cell_type": "markdown",
   "metadata": {},
   "source": [
    "## Functions"
   ]
  },
  {
   "cell_type": "code",
   "execution_count": 4,
   "metadata": {},
   "outputs": [],
   "source": [
    "# This code inspired by muliple different CV2 uses on Stackoverflow and Kaggle\n",
    "image_size = tuple((128, 128)) #Specify what size you want your images to be here\n",
    "# The following function will convert all my images to arrays\n",
    "def arrayify(image_directory):\n",
    "    try:\n",
    "        image = cv2.imread(image_directory) # This will read in an image from the image directory\n",
    "        if image is not None: #If the image exists, do the following:\n",
    "            image = cv2.resize(image, image_size) # Resize the image to whatever image_size is defined as\n",
    "            return img_to_array(image)\n",
    "        else:\n",
    "            return np.array([]) #Else... return an empty array (doing this mostly to prevent NaNs\n",
    "                                # and other forms of data implosion)\n",
    "    except Exception: #If there is an error...\n",
    "        print (f\"Nope!! {Exception}\") #Let me know\n",
    "        return None "
   ]
  },
  {
   "cell_type": "code",
   "execution_count": 5,
   "metadata": {},
   "outputs": [],
   "source": [
    "# This code inspired by multiple different instances and examples of image preprocessing on\n",
    "# Stackoverflow, Kaggle, and from General Assembly lesson examples\n",
    "def process_images(image_directory): \n",
    "    #Let's instantiate some lists!\n",
    "    image_list = []\n",
    "    label_list = []\n",
    "    try:\n",
    "        print(\"Loading Images ༼ つ ◕_◕ ༽つ\")\n",
    "        actual_folder = listdir(image_directory) # listdir will give me the directory for every folder\n",
    "            # in the given directory, I can then use these directories in my function\n",
    "        for folder in actual_folder:  \n",
    "            if folder == \".DS_Store\": #I don't want .DS_Store to be called for this function\n",
    "                actual_folder.remove(folder)\n",
    "        for image_folder in actual_folder: # For each specific image folder in the main folder...\n",
    "            print(f\"Processing {image_folder}...\")\n",
    "            formatted_image_list = listdir(f\"{image_directory}/{image_folder}/\") #Pull the images out and put them in a list\n",
    "            for image in formatted_image_list: #For each image in the image list\n",
    "                if image == \".DS_Store\":\n",
    "                    formatted_image_list.remove(image)\n",
    "            for image in formatted_image_list:\n",
    "                specific_image = f\"{image_directory}/{image_folder}/{image}\" #Create a specific image\n",
    "                # Variable\n",
    "                if specific_image.lower().endswith(\".jpg\") == True: #So long as the directory ends with\n",
    "                    # .jpg, do the following\n",
    "                    resized_array = arrayify(specific_image) # call the arrayify function on the image\n",
    "                    image_list.append(resized_array) # append the resized array to the image_list var\n",
    "                    label_list.append(image_folder) # Add the folder that the image came from as its \"label\"\n",
    "        print(\"Processing Complete\")\n",
    "        return image_list, label_list\n",
    "                    \n",
    "                \n",
    "                \n",
    "                \n",
    "                    \n",
    "    except: #If there is an error...\n",
    "        print (f\"Nope!! {Exception}\") #Let me know\n",
    "        return None "
   ]
  },
  {
   "cell_type": "markdown",
   "metadata": {},
   "source": [
    "## Processing Image Directories"
   ]
  },
  {
   "cell_type": "code",
   "execution_count": 6,
   "metadata": {},
   "outputs": [
    {
     "name": "stdout",
     "output_type": "stream",
     "text": [
      "Loading Images ༼ つ ◕_◕ ༽つ\n",
      "Processing Pepper__bell___Bacterial_spot...\n",
      "Processing Pepper__bell___healthy...\n",
      "Processing Potato___Early_blight...\n",
      "Processing Potato___healthy...\n",
      "Processing Potato___Late_blight...\n",
      "Processing Tomato_Bacterial_spot...\n",
      "Processing Tomato_Early_blight...\n",
      "Processing Tomato_healthy...\n",
      "Processing Tomato_Late_blight...\n",
      "Processing Tomato_Leaf_Mold...\n",
      "Processing Tomato_Septoria_leaf_spot...\n",
      "Processing Tomato_Spider_mites_Two_spotted_spider_mite...\n",
      "Processing Tomato__Target_Spot...\n",
      "Processing Tomato__Tomato_mosaic_virus...\n",
      "Processing Tomato__Tomato_YellowLeaf__Curl_Virus...\n",
      "Processing Complete\n"
     ]
    }
   ],
   "source": [
    "plant_village_arrays, plant_village_labels = process_images(\"./Images/PlantVillage\")"
   ]
  },
  {
   "cell_type": "code",
   "execution_count": 7,
   "metadata": {
    "scrolled": true
   },
   "outputs": [
    {
     "name": "stdout",
     "output_type": "stream",
     "text": [
      "Processed 20636 Images from the Plantvillage Dataset, Size (128, 128)\n",
      "Labels for the Plantvillage Dataset are as follows: \n",
      " {'Pepper__bell___Bacterial_spot', 'Pepper__bell___healthy', 'Tomato_Leaf_Mold', 'Tomato__Target_Spot', 'Tomato_Septoria_leaf_spot', 'Tomato_Late_blight', 'Potato___Early_blight', 'Tomato_Spider_mites_Two_spotted_spider_mite', 'Potato___healthy', 'Tomato__Tomato_mosaic_virus', 'Tomato__Tomato_YellowLeaf__Curl_Virus', 'Tomato_Bacterial_spot', 'Potato___Late_blight', 'Tomato_healthy', 'Tomato_Early_blight'}\n"
     ]
    }
   ],
   "source": [
    "print(f\"Processed {len(plant_village_arrays)} Images from the Plantvillage Dataset, Size {image_size}\")\n",
    "print(f\"Labels for the Plantvillage Dataset are as follows: \\n {set(plant_village_labels)}\")"
   ]
  },
  {
   "cell_type": "code",
   "execution_count": 8,
   "metadata": {
    "scrolled": true
   },
   "outputs": [
    {
     "name": "stdout",
     "output_type": "stream",
     "text": [
      "Loading Images ༼ つ ◕_◕ ༽つ\n",
      "Processing rice_Brown_Spot...\n",
      "Processing rice_Healthy...\n",
      "Processing rice_Hispa...\n",
      "Processing rice_Leaf_Blast...\n",
      "Processing Complete\n"
     ]
    }
   ],
   "source": [
    "rice_arrays, rice_labels = process_images('./Images/Rice')"
   ]
  },
  {
   "cell_type": "code",
   "execution_count": 9,
   "metadata": {
    "scrolled": false
   },
   "outputs": [
    {
     "name": "stdout",
     "output_type": "stream",
     "text": [
      "Processed 3355 Images from the Rice Dataset, Size (128, 128)\n",
      "Labels for the Rice Dataset are as follows: \n",
      " {'rice_Hispa', 'rice_Brown_Spot', 'rice_Leaf_Blast', 'rice_Healthy'}\n"
     ]
    }
   ],
   "source": [
    "print(f\"Processed {len(rice_arrays)} Images from the Rice Dataset, Size {image_size}\")\n",
    "print(f\"Labels for the Rice Dataset are as follows: \\n {set(rice_labels)}\")"
   ]
  },
  {
   "cell_type": "code",
   "execution_count": 10,
   "metadata": {},
   "outputs": [],
   "source": [
    "# Transforming my Labels into numbers using LabelBinarizer\n",
    "\n",
    "lb = LabelBinarizer()\n",
    "lb_plant_village_labels = lb.fit_transform(plant_village_labels)\n",
    "lb_rice_labels = lb.fit_transform(rice_labels)"
   ]
  },
  {
   "cell_type": "markdown",
   "metadata": {},
   "source": [
    "## Initial Multiclass CNN with Plantvillage dataset"
   ]
  },
  {
   "cell_type": "code",
   "execution_count": 11,
   "metadata": {},
   "outputs": [],
   "source": [
    "# Defining X and y vars\n",
    "X = plant_village_arrays\n",
    "y = lb_plant_village_labels"
   ]
  },
  {
   "cell_type": "code",
   "execution_count": 12,
   "metadata": {},
   "outputs": [],
   "source": [
    "# Train test split!\n",
    "X_train, X_test, y_train, y_test = train_test_split(X, y, test_size =0.2, random_state =42)\n"
   ]
  },
  {
   "cell_type": "code",
   "execution_count": 13,
   "metadata": {},
   "outputs": [],
   "source": [
    "# Converting X_train and X_test into float arrays so they can be normalized\n",
    "X_train = np.array(X_train, dtype=np.float32)\n",
    "X_test = np.array(X_test, dtype=np.float32)"
   ]
  },
  {
   "cell_type": "code",
   "execution_count": 14,
   "metadata": {},
   "outputs": [],
   "source": [
    "# Normalizing X_train and X_test\n",
    "X_train /= 255\n",
    "X_test /= 255"
   ]
  },
  {
   "cell_type": "code",
   "execution_count": 15,
   "metadata": {
    "scrolled": true
   },
   "outputs": [],
   "source": [
    "# Transformed Image Size is what determines these variables \n",
    "width = 128\n",
    "height = 128\n",
    "depth = 3\n"
   ]
  },
  {
   "cell_type": "code",
   "execution_count": 16,
   "metadata": {
    "scrolled": true
   },
   "outputs": [
    {
     "name": "stderr",
     "output_type": "stream",
     "text": [
      "WARNING: Logging before flag parsing goes to stderr.\n",
      "W0826 17:31:20.353652 28776 deprecation_wrapper.py:119] From C:\\Users\\JoeRo\\Anaconda3\\envs\\keras_gpu\\lib\\site-packages\\keras\\backend\\tensorflow_backend.py:74: The name tf.get_default_graph is deprecated. Please use tf.compat.v1.get_default_graph instead.\n",
      "\n",
      "W0826 17:31:20.355636 28776 deprecation_wrapper.py:119] From C:\\Users\\JoeRo\\Anaconda3\\envs\\keras_gpu\\lib\\site-packages\\keras\\backend\\tensorflow_backend.py:517: The name tf.placeholder is deprecated. Please use tf.compat.v1.placeholder instead.\n",
      "\n",
      "W0826 17:31:20.417235 28776 deprecation_wrapper.py:119] From C:\\Users\\JoeRo\\Anaconda3\\envs\\keras_gpu\\lib\\site-packages\\keras\\backend\\tensorflow_backend.py:4138: The name tf.random_uniform is deprecated. Please use tf.random.uniform instead.\n",
      "\n",
      "W0826 17:31:20.467104 28776 deprecation_wrapper.py:119] From C:\\Users\\JoeRo\\Anaconda3\\envs\\keras_gpu\\lib\\site-packages\\keras\\backend\\tensorflow_backend.py:3976: The name tf.nn.max_pool is deprecated. Please use tf.nn.max_pool2d instead.\n",
      "\n",
      "W0826 17:31:20.469074 28776 deprecation_wrapper.py:119] From C:\\Users\\JoeRo\\Anaconda3\\envs\\keras_gpu\\lib\\site-packages\\keras\\backend\\tensorflow_backend.py:133: The name tf.placeholder_with_default is deprecated. Please use tf.compat.v1.placeholder_with_default instead.\n",
      "\n",
      "W0826 17:31:20.483035 28776 deprecation.py:506] From C:\\Users\\JoeRo\\Anaconda3\\envs\\keras_gpu\\lib\\site-packages\\keras\\backend\\tensorflow_backend.py:3445: calling dropout (from tensorflow.python.ops.nn_ops) with keep_prob is deprecated and will be removed in a future version.\n",
      "Instructions for updating:\n",
      "Please use `rate` instead of `keep_prob`. Rate should be set to `rate = 1 - keep_prob`.\n",
      "W0826 17:31:20.633633 28776 deprecation_wrapper.py:119] From C:\\Users\\JoeRo\\Anaconda3\\envs\\keras_gpu\\lib\\site-packages\\keras\\optimizers.py:790: The name tf.train.Optimizer is deprecated. Please use tf.compat.v1.train.Optimizer instead.\n",
      "\n",
      "W0826 17:31:20.657607 28776 deprecation_wrapper.py:119] From C:\\Users\\JoeRo\\Anaconda3\\envs\\keras_gpu\\lib\\site-packages\\keras\\backend\\tensorflow_backend.py:3295: The name tf.log is deprecated. Please use tf.math.log instead.\n",
      "\n"
     ]
    }
   ],
   "source": [
    "# Model Instantiation\n",
    "plant_vil_model = Sequential()\n",
    "\n",
    "# Input\n",
    "plant_vil_model.add(Conv2D(32, (3,3), input_shape = (width, height, depth)))\n",
    "plant_vil_model.add(Activation(\"relu\"))\n",
    "plant_vil_model.add(MaxPooling2D(pool_size=(3,3)))\n",
    "plant_vil_model.add(Dropout(0.25))\n",
    "\n",
    "# Second Layer\n",
    "plant_vil_model.add(Conv2D(64, (3,3)))\n",
    "plant_vil_model.add(Activation(\"relu\"))\n",
    "plant_vil_model.add(Dropout(0.25))\n",
    "\n",
    "# Third Layer\n",
    "plant_vil_model.add(Conv2D(128, (3,3)))\n",
    "plant_vil_model.add(Activation(\"relu\"))\n",
    "plant_vil_model.add(MaxPooling2D(pool_size=(2,2)))\n",
    "plant_vil_model.add(Dropout(0.25))\n",
    "\n",
    "# Flatten It\n",
    "plant_vil_model.add(Flatten())\n",
    "\n",
    "# Fourth Layer \n",
    "plant_vil_model.add(Dense(128))\n",
    "plant_vil_model.add(Activation(\"relu\"))\n",
    "\n",
    "#Fifth Layer\n",
    "plant_vil_model.add(Dense(64))\n",
    "plant_vil_model.add(Activation(\"relu\"))\n",
    "\n",
    "# Final Output Layer\n",
    "plant_vil_model.add(Dense(15))\n",
    "plant_vil_model.add(Activation(\"softmax\"))\n",
    "\n",
    "\n",
    "# Compile the Model\n",
    "plant_vil_model.compile(loss='categorical_crossentropy',\n",
    "                       optimizer='adam',\n",
    "                       metrics=['accuracy'])\n",
    "\n"
   ]
  },
  {
   "cell_type": "code",
   "execution_count": 17,
   "metadata": {},
   "outputs": [
    {
     "name": "stdout",
     "output_type": "stream",
     "text": [
      "_________________________________________________________________\n",
      "Layer (type)                 Output Shape              Param #   \n",
      "=================================================================\n",
      "conv2d_1 (Conv2D)            (None, 126, 126, 32)      896       \n",
      "_________________________________________________________________\n",
      "activation_1 (Activation)    (None, 126, 126, 32)      0         \n",
      "_________________________________________________________________\n",
      "max_pooling2d_1 (MaxPooling2 (None, 42, 42, 32)        0         \n",
      "_________________________________________________________________\n",
      "dropout_1 (Dropout)          (None, 42, 42, 32)        0         \n",
      "_________________________________________________________________\n",
      "conv2d_2 (Conv2D)            (None, 40, 40, 64)        18496     \n",
      "_________________________________________________________________\n",
      "activation_2 (Activation)    (None, 40, 40, 64)        0         \n",
      "_________________________________________________________________\n",
      "dropout_2 (Dropout)          (None, 40, 40, 64)        0         \n",
      "_________________________________________________________________\n",
      "conv2d_3 (Conv2D)            (None, 38, 38, 128)       73856     \n",
      "_________________________________________________________________\n",
      "activation_3 (Activation)    (None, 38, 38, 128)       0         \n",
      "_________________________________________________________________\n",
      "max_pooling2d_2 (MaxPooling2 (None, 19, 19, 128)       0         \n",
      "_________________________________________________________________\n",
      "dropout_3 (Dropout)          (None, 19, 19, 128)       0         \n",
      "_________________________________________________________________\n",
      "flatten_1 (Flatten)          (None, 46208)             0         \n",
      "_________________________________________________________________\n",
      "dense_1 (Dense)              (None, 128)               5914752   \n",
      "_________________________________________________________________\n",
      "activation_4 (Activation)    (None, 128)               0         \n",
      "_________________________________________________________________\n",
      "dense_2 (Dense)              (None, 64)                8256      \n",
      "_________________________________________________________________\n",
      "activation_5 (Activation)    (None, 64)                0         \n",
      "_________________________________________________________________\n",
      "dense_3 (Dense)              (None, 15)                975       \n",
      "_________________________________________________________________\n",
      "activation_6 (Activation)    (None, 15)                0         \n",
      "=================================================================\n",
      "Total params: 6,017,231\n",
      "Trainable params: 6,017,231\n",
      "Non-trainable params: 0\n",
      "_________________________________________________________________\n"
     ]
    }
   ],
   "source": [
    "plant_vil_model.summary()"
   ]
  },
  {
   "cell_type": "code",
   "execution_count": 18,
   "metadata": {
    "scrolled": true
   },
   "outputs": [
    {
     "name": "stderr",
     "output_type": "stream",
     "text": [
      "W0826 17:31:20.842138 28776 deprecation.py:323] From C:\\Users\\JoeRo\\Anaconda3\\envs\\keras_gpu\\lib\\site-packages\\tensorflow\\python\\ops\\math_grad.py:1250: add_dispatch_support.<locals>.wrapper (from tensorflow.python.ops.array_ops) is deprecated and will be removed in a future version.\n",
      "Instructions for updating:\n",
      "Use tf.where in 2.0, which has the same broadcast rule as np.where\n"
     ]
    },
    {
     "name": "stdout",
     "output_type": "stream",
     "text": [
      "Train on 16508 samples, validate on 4128 samples\n",
      "Epoch 1/25\n",
      "16508/16508 [==============================] - 33s 2ms/step - loss: 1.5167 - acc: 0.5096 - val_loss: 0.8796 - val_acc: 0.7074\n",
      "Epoch 2/25\n",
      "16508/16508 [==============================] - 17s 1ms/step - loss: 0.6076 - acc: 0.7955 - val_loss: 0.6035 - val_acc: 0.8035\n",
      "Epoch 3/25\n",
      "16508/16508 [==============================] - 17s 1ms/step - loss: 0.4127 - acc: 0.8596 - val_loss: 0.3898 - val_acc: 0.8755\n",
      "Epoch 4/25\n",
      "16508/16508 [==============================] - 17s 1ms/step - loss: 0.3114 - acc: 0.8943 - val_loss: 0.3875 - val_acc: 0.8704\n",
      "Epoch 5/25\n",
      "16508/16508 [==============================] - 17s 1ms/step - loss: 0.2460 - acc: 0.9183 - val_loss: 0.3559 - val_acc: 0.8876\n",
      "Epoch 6/25\n",
      "16508/16508 [==============================] - 17s 1ms/step - loss: 0.1898 - acc: 0.9376 - val_loss: 0.3061 - val_acc: 0.9041\n",
      "Epoch 7/25\n",
      "16508/16508 [==============================] - 17s 1ms/step - loss: 0.1669 - acc: 0.9449 - val_loss: 0.4473 - val_acc: 0.8563\n",
      "Epoch 8/25\n",
      "16508/16508 [==============================] - 17s 1ms/step - loss: 0.1408 - acc: 0.9521 - val_loss: 0.2852 - val_acc: 0.9150\n",
      "Epoch 9/25\n",
      "16508/16508 [==============================] - 17s 1ms/step - loss: 0.1070 - acc: 0.9630 - val_loss: 0.5010 - val_acc: 0.8549\n",
      "Epoch 10/25\n",
      "16508/16508 [==============================] - 17s 1ms/step - loss: 0.1014 - acc: 0.9657 - val_loss: 0.4157 - val_acc: 0.8905\n",
      "Epoch 11/25\n",
      "16508/16508 [==============================] - 17s 1ms/step - loss: 0.0956 - acc: 0.9664 - val_loss: 0.3391 - val_acc: 0.9029\n",
      "Epoch 12/25\n",
      "16508/16508 [==============================] - 17s 1ms/step - loss: 0.0827 - acc: 0.9723 - val_loss: 0.4885 - val_acc: 0.8861\n",
      "Epoch 13/25\n",
      "16508/16508 [==============================] - 17s 1ms/step - loss: 0.0806 - acc: 0.9724 - val_loss: 0.3107 - val_acc: 0.9147\n",
      "Epoch 14/25\n",
      "16508/16508 [==============================] - 17s 1ms/step - loss: 0.0667 - acc: 0.9770 - val_loss: 0.3280 - val_acc: 0.9116\n",
      "Epoch 15/25\n",
      "16508/16508 [==============================] - 17s 1ms/step - loss: 0.0664 - acc: 0.9780 - val_loss: 0.4003 - val_acc: 0.8932\n",
      "Epoch 16/25\n",
      "16508/16508 [==============================] - 17s 1ms/step - loss: 0.0669 - acc: 0.9783 - val_loss: 0.3581 - val_acc: 0.9113\n",
      "Epoch 17/25\n",
      "16508/16508 [==============================] - 17s 1ms/step - loss: 0.0559 - acc: 0.9822 - val_loss: 0.4054 - val_acc: 0.9104\n",
      "Epoch 18/25\n",
      "16508/16508 [==============================] - 17s 1ms/step - loss: 0.0541 - acc: 0.9825 - val_loss: 0.4093 - val_acc: 0.9026\n",
      "Epoch 19/25\n",
      "16508/16508 [==============================] - 17s 1ms/step - loss: 0.0619 - acc: 0.9792 - val_loss: 0.3683 - val_acc: 0.9101\n",
      "Epoch 20/25\n",
      "16508/16508 [==============================] - 17s 1ms/step - loss: 0.0649 - acc: 0.9790 - val_loss: 0.3970 - val_acc: 0.9140\n",
      "Epoch 21/25\n",
      "16508/16508 [==============================] - 17s 1ms/step - loss: 0.0444 - acc: 0.9857 - val_loss: 0.3484 - val_acc: 0.9172\n",
      "Epoch 22/25\n",
      "16508/16508 [==============================] - 17s 1ms/step - loss: 0.0611 - acc: 0.9812 - val_loss: 0.4094 - val_acc: 0.9048\n",
      "Epoch 23/25\n",
      "16508/16508 [==============================] - 17s 1ms/step - loss: 0.0370 - acc: 0.9890 - val_loss: 0.5064 - val_acc: 0.8934\n",
      "Epoch 24/25\n",
      "16508/16508 [==============================] - 17s 1ms/step - loss: 0.0646 - acc: 0.9788 - val_loss: 0.4367 - val_acc: 0.9079\n",
      "Epoch 25/25\n",
      "16508/16508 [==============================] - 17s 1ms/step - loss: 0.0593 - acc: 0.9826 - val_loss: 0.3814 - val_acc: 0.9152\n"
     ]
    }
   ],
   "source": [
    "history2 = plant_vil_model.fit(X_train, y_train, \n",
    "                               batch_size=32, \n",
    "                               validation_data=(X_test, y_test), \n",
    "                               epochs=25, \n",
    "                               verbose=1)"
   ]
  },
  {
   "cell_type": "markdown",
   "metadata": {},
   "source": [
    "## Initial Multiclass CNN with Rice dataset"
   ]
  },
  {
   "cell_type": "code",
   "execution_count": 19,
   "metadata": {},
   "outputs": [],
   "source": [
    "# Defining X and y vars\n",
    "X = rice_arrays\n",
    "y = lb_rice_labels"
   ]
  },
  {
   "cell_type": "code",
   "execution_count": 20,
   "metadata": {},
   "outputs": [],
   "source": [
    "# Train test split!\n",
    "X_train, X_test, y_train, y_test = train_test_split(X, y, test_size =0.2, random_state =42)"
   ]
  },
  {
   "cell_type": "code",
   "execution_count": 21,
   "metadata": {},
   "outputs": [],
   "source": [
    "# Converting X_train and X_test into float arrays so they can be normalized\n",
    "X_train = np.array(X_train, dtype=np.float32)\n",
    "X_test = np.array(X_test, dtype=np.float32)"
   ]
  },
  {
   "cell_type": "code",
   "execution_count": 22,
   "metadata": {},
   "outputs": [],
   "source": [
    "# Normalizing X_train and X_test\n",
    "X_train /= 255\n",
    "X_test /= 255"
   ]
  },
  {
   "cell_type": "code",
   "execution_count": 23,
   "metadata": {},
   "outputs": [],
   "source": [
    "# Model Instantiation\n",
    "rice_model = Sequential()\n",
    "\n",
    "# Input\n",
    "rice_model.add(Conv2D(32, (3,3), input_shape = (width, height, depth)))\n",
    "rice_model.add(Activation(\"relu\"))\n",
    "rice_model.add(MaxPooling2D(pool_size=(3,3)))\n",
    "rice_model.add(Dropout(0.25))\n",
    "\n",
    "# Second Layer\n",
    "rice_model.add(Conv2D(64, (3,3)))\n",
    "rice_model.add(Activation(\"relu\"))\n",
    "rice_model.add(Dropout(0.25))\n",
    "\n",
    "# Third Layer\n",
    "rice_model.add(Conv2D(128, (3,3)))\n",
    "rice_model.add(Activation(\"relu\"))\n",
    "rice_model.add(MaxPooling2D(pool_size=(2,2)))\n",
    "rice_model.add(Dropout(0.25))\n",
    "\n",
    "# Flatten It\n",
    "rice_model.add(Flatten())\n",
    "\n",
    "# Fourth Layer \n",
    "rice_model.add(Dense(128))\n",
    "rice_model.add(Activation(\"relu\"))\n",
    "\n",
    "#Fifth Layer\n",
    "rice_model.add(Dense(64))\n",
    "rice_model.add(Activation(\"relu\"))\n",
    "\n",
    "# Final Output Layer\n",
    "rice_model.add(Dense(4))\n",
    "rice_model.add(Activation(\"softmax\"))\n",
    "\n",
    "\n",
    "# Compile the Model\n",
    "rice_model.compile(loss='categorical_crossentropy',\n",
    "                       optimizer='adam',\n",
    "                       metrics=['accuracy'])\n",
    "\n"
   ]
  },
  {
   "cell_type": "code",
   "execution_count": 24,
   "metadata": {},
   "outputs": [
    {
     "name": "stdout",
     "output_type": "stream",
     "text": [
      "_________________________________________________________________\n",
      "Layer (type)                 Output Shape              Param #   \n",
      "=================================================================\n",
      "conv2d_4 (Conv2D)            (None, 126, 126, 32)      896       \n",
      "_________________________________________________________________\n",
      "activation_7 (Activation)    (None, 126, 126, 32)      0         \n",
      "_________________________________________________________________\n",
      "max_pooling2d_3 (MaxPooling2 (None, 42, 42, 32)        0         \n",
      "_________________________________________________________________\n",
      "dropout_4 (Dropout)          (None, 42, 42, 32)        0         \n",
      "_________________________________________________________________\n",
      "conv2d_5 (Conv2D)            (None, 40, 40, 64)        18496     \n",
      "_________________________________________________________________\n",
      "activation_8 (Activation)    (None, 40, 40, 64)        0         \n",
      "_________________________________________________________________\n",
      "dropout_5 (Dropout)          (None, 40, 40, 64)        0         \n",
      "_________________________________________________________________\n",
      "conv2d_6 (Conv2D)            (None, 38, 38, 128)       73856     \n",
      "_________________________________________________________________\n",
      "activation_9 (Activation)    (None, 38, 38, 128)       0         \n",
      "_________________________________________________________________\n",
      "max_pooling2d_4 (MaxPooling2 (None, 19, 19, 128)       0         \n",
      "_________________________________________________________________\n",
      "dropout_6 (Dropout)          (None, 19, 19, 128)       0         \n",
      "_________________________________________________________________\n",
      "flatten_2 (Flatten)          (None, 46208)             0         \n",
      "_________________________________________________________________\n",
      "dense_4 (Dense)              (None, 128)               5914752   \n",
      "_________________________________________________________________\n",
      "activation_10 (Activation)   (None, 128)               0         \n",
      "_________________________________________________________________\n",
      "dense_5 (Dense)              (None, 64)                8256      \n",
      "_________________________________________________________________\n",
      "activation_11 (Activation)   (None, 64)                0         \n",
      "_________________________________________________________________\n",
      "dense_6 (Dense)              (None, 4)                 260       \n",
      "_________________________________________________________________\n",
      "activation_12 (Activation)   (None, 4)                 0         \n",
      "=================================================================\n",
      "Total params: 6,016,516\n",
      "Trainable params: 6,016,516\n",
      "Non-trainable params: 0\n",
      "_________________________________________________________________\n"
     ]
    }
   ],
   "source": [
    "rice_model.summary()"
   ]
  },
  {
   "cell_type": "code",
   "execution_count": 25,
   "metadata": {
    "scrolled": true
   },
   "outputs": [
    {
     "name": "stdout",
     "output_type": "stream",
     "text": [
      "Train on 2684 samples, validate on 671 samples\n",
      "Epoch 1/25\n",
      "2684/2684 [==============================] - 22s 8ms/step - loss: 1.3658 - acc: 0.4266 - val_loss: 1.2893 - val_acc: 0.4545\n",
      "Epoch 2/25\n",
      "2684/2684 [==============================] - 3s 1ms/step - loss: 1.2370 - acc: 0.4579 - val_loss: 1.1880 - val_acc: 0.4844\n",
      "Epoch 3/25\n",
      "2684/2684 [==============================] - 3s 1ms/step - loss: 1.1477 - acc: 0.5030 - val_loss: 1.1407 - val_acc: 0.5216\n",
      "Epoch 4/25\n",
      "2684/2684 [==============================] - 3s 1ms/step - loss: 1.1064 - acc: 0.5216 - val_loss: 1.1398 - val_acc: 0.5440\n",
      "Epoch 5/25\n",
      "2684/2684 [==============================] - 3s 1ms/step - loss: 1.0815 - acc: 0.5235 - val_loss: 1.0839 - val_acc: 0.5514\n",
      "Epoch 6/25\n",
      "2684/2684 [==============================] - 3s 1ms/step - loss: 1.0411 - acc: 0.5432 - val_loss: 1.0852 - val_acc: 0.5768\n",
      "Epoch 7/25\n",
      "2684/2684 [==============================] - 3s 1ms/step - loss: 1.0157 - acc: 0.5540 - val_loss: 1.0967 - val_acc: 0.5276\n",
      "Epoch 8/25\n",
      "2684/2684 [==============================] - 3s 1ms/step - loss: 0.9533 - acc: 0.5820 - val_loss: 1.1001 - val_acc: 0.5529\n",
      "Epoch 9/25\n",
      "2684/2684 [==============================] - 3s 1ms/step - loss: 0.9323 - acc: 0.6039 - val_loss: 1.2361 - val_acc: 0.4963\n",
      "Epoch 10/25\n",
      "2684/2684 [==============================] - 3s 1ms/step - loss: 0.8887 - acc: 0.6226 - val_loss: 1.2134 - val_acc: 0.4844\n",
      "Epoch 11/25\n",
      "2684/2684 [==============================] - 3s 1ms/step - loss: 0.8535 - acc: 0.6405 - val_loss: 1.1415 - val_acc: 0.5335\n",
      "Epoch 12/25\n",
      "2684/2684 [==============================] - 3s 1ms/step - loss: 0.7793 - acc: 0.6736 - val_loss: 1.1808 - val_acc: 0.5231\n",
      "Epoch 13/25\n",
      "2684/2684 [==============================] - 3s 1ms/step - loss: 0.7142 - acc: 0.6967 - val_loss: 1.3077 - val_acc: 0.4933\n",
      "Epoch 14/25\n",
      "2684/2684 [==============================] - 3s 1ms/step - loss: 0.6561 - acc: 0.7351 - val_loss: 1.3865 - val_acc: 0.4680\n",
      "Epoch 15/25\n",
      "2684/2684 [==============================] - 3s 1ms/step - loss: 0.6084 - acc: 0.7511 - val_loss: 1.3522 - val_acc: 0.4858\n",
      "Epoch 16/25\n",
      "2684/2684 [==============================] - 3s 1ms/step - loss: 0.5522 - acc: 0.7697 - val_loss: 1.5789 - val_acc: 0.4963\n",
      "Epoch 17/25\n",
      "2684/2684 [==============================] - 3s 1ms/step - loss: 0.4481 - acc: 0.8152 - val_loss: 1.6384 - val_acc: 0.5261\n",
      "Epoch 18/25\n",
      "2684/2684 [==============================] - 3s 1ms/step - loss: 0.4106 - acc: 0.8264 - val_loss: 1.8015 - val_acc: 0.4799\n",
      "Epoch 19/25\n",
      "2684/2684 [==============================] - 3s 1ms/step - loss: 0.3650 - acc: 0.8532 - val_loss: 2.0886 - val_acc: 0.4769\n",
      "Epoch 20/25\n",
      "2684/2684 [==============================] - 3s 1ms/step - loss: 0.3253 - acc: 0.8703 - val_loss: 2.0385 - val_acc: 0.4769\n",
      "Epoch 21/25\n",
      "2684/2684 [==============================] - 3s 1ms/step - loss: 0.2954 - acc: 0.8897 - val_loss: 2.0225 - val_acc: 0.4993\n",
      "Epoch 22/25\n",
      "2684/2684 [==============================] - 3s 1ms/step - loss: 0.2268 - acc: 0.9210 - val_loss: 2.3584 - val_acc: 0.4948\n",
      "Epoch 23/25\n",
      "2684/2684 [==============================] - 3s 1ms/step - loss: 0.2569 - acc: 0.9024 - val_loss: 2.1747 - val_acc: 0.4814\n",
      "Epoch 24/25\n",
      "2684/2684 [==============================] - 3s 1ms/step - loss: 0.2414 - acc: 0.9098 - val_loss: 2.3969 - val_acc: 0.4769\n",
      "Epoch 25/25\n",
      "2684/2684 [==============================] - 3s 1ms/step - loss: 0.1980 - acc: 0.9326 - val_loss: 2.5808 - val_acc: 0.4844\n"
     ]
    }
   ],
   "source": [
    "history1 = rice_model.fit(X_train, y_train, batch_size=32, validation_data=(X_test, y_test), epochs=25, verbose=1)"
   ]
  },
  {
   "cell_type": "markdown",
   "metadata": {},
   "source": [
    "# Initial Thoughts\n",
    "- So my initial accuracy scores indicate that my plant-village images are trainng pretty well, with a validation accuracy of about 90%. My Rice images are not doing well, though. I suspect this is because of the image size of 128x128. Sadly there isn't much I can do about this because of the limitations of my computer. Let's try combining arrays and labels to see how the NN performs with the rice added alongside the other plantvillage crops. I suspect this will negatively impact score."
   ]
  },
  {
   "cell_type": "markdown",
   "metadata": {},
   "source": [
    "## Multiclass CNN with combined image datasets"
   ]
  },
  {
   "cell_type": "code",
   "execution_count": 26,
   "metadata": {},
   "outputs": [],
   "source": [
    "# Combining my Arrays and Labels\n",
    "combined_arrays = plant_village_arrays + rice_arrays\n",
    "combined_labels = plant_village_labels + rice_labels"
   ]
  },
  {
   "cell_type": "code",
   "execution_count": 27,
   "metadata": {},
   "outputs": [],
   "source": [
    "# Binarizing my labels\n",
    "lb_combined_labels = lb.fit_transform(combined_labels)"
   ]
  },
  {
   "cell_type": "code",
   "execution_count": 28,
   "metadata": {},
   "outputs": [],
   "source": [
    "# Defining my X and y vars\n",
    "X = combined_arrays\n",
    "y = lb_combined_labels"
   ]
  },
  {
   "cell_type": "code",
   "execution_count": 29,
   "metadata": {},
   "outputs": [],
   "source": [
    "# Train test split!\n",
    "X_train, X_test, y_train, y_test = train_test_split(X, y, test_size =0.2, random_state =42)"
   ]
  },
  {
   "cell_type": "code",
   "execution_count": 30,
   "metadata": {},
   "outputs": [],
   "source": [
    "# Converting X_train and X_test into float arrays so they can be normalized\n",
    "X_train = np.array(X_train, dtype=np.float32)\n",
    "X_test = np.array(X_test, dtype=np.float32)"
   ]
  },
  {
   "cell_type": "code",
   "execution_count": 31,
   "metadata": {},
   "outputs": [],
   "source": [
    "# Model Instantiation\n",
    "model = Sequential()\n",
    "\n",
    "# Input\n",
    "model.add(Conv2D(32, (3,3), input_shape = (width, height, depth)))\n",
    "model.add(Activation(\"relu\"))\n",
    "model.add(MaxPooling2D(pool_size=(3,3)))\n",
    "model.add(Dropout(0.25))\n",
    "\n",
    "# Second Layer\n",
    "model.add(Conv2D(64, (3,3)))\n",
    "model.add(Activation(\"relu\"))\n",
    "model.add(Dropout(0.25))\n",
    "\n",
    "# Third Layer\n",
    "model.add(Conv2D(128, (3,3)))\n",
    "model.add(Activation(\"relu\"))\n",
    "model.add(MaxPooling2D(pool_size=(2,2)))\n",
    "model.add(Dropout(0.25))\n",
    "\n",
    "# Flatten It\n",
    "model.add(Flatten())\n",
    "\n",
    "# Fourth Layer \n",
    "model.add(Dense(128))\n",
    "model.add(Activation(\"relu\"))\n",
    "\n",
    "#Fifth Layer\n",
    "model.add(Dense(64))\n",
    "model.add(Activation(\"relu\"))\n",
    "\n",
    "# Final Output Layer\n",
    "model.add(Dense(19))\n",
    "model.add(Activation(\"softmax\"))\n",
    "\n",
    "\n",
    "# Compile the Model\n",
    "model.compile(loss='categorical_crossentropy',\n",
    "                       optimizer='adam',\n",
    "                       metrics=['accuracy'])\n"
   ]
  },
  {
   "cell_type": "code",
   "execution_count": 32,
   "metadata": {},
   "outputs": [
    {
     "name": "stdout",
     "output_type": "stream",
     "text": [
      "_________________________________________________________________\n",
      "Layer (type)                 Output Shape              Param #   \n",
      "=================================================================\n",
      "conv2d_7 (Conv2D)            (None, 126, 126, 32)      896       \n",
      "_________________________________________________________________\n",
      "activation_13 (Activation)   (None, 126, 126, 32)      0         \n",
      "_________________________________________________________________\n",
      "max_pooling2d_5 (MaxPooling2 (None, 42, 42, 32)        0         \n",
      "_________________________________________________________________\n",
      "dropout_7 (Dropout)          (None, 42, 42, 32)        0         \n",
      "_________________________________________________________________\n",
      "conv2d_8 (Conv2D)            (None, 40, 40, 64)        18496     \n",
      "_________________________________________________________________\n",
      "activation_14 (Activation)   (None, 40, 40, 64)        0         \n",
      "_________________________________________________________________\n",
      "dropout_8 (Dropout)          (None, 40, 40, 64)        0         \n",
      "_________________________________________________________________\n",
      "conv2d_9 (Conv2D)            (None, 38, 38, 128)       73856     \n",
      "_________________________________________________________________\n",
      "activation_15 (Activation)   (None, 38, 38, 128)       0         \n",
      "_________________________________________________________________\n",
      "max_pooling2d_6 (MaxPooling2 (None, 19, 19, 128)       0         \n",
      "_________________________________________________________________\n",
      "dropout_9 (Dropout)          (None, 19, 19, 128)       0         \n",
      "_________________________________________________________________\n",
      "flatten_3 (Flatten)          (None, 46208)             0         \n",
      "_________________________________________________________________\n",
      "dense_7 (Dense)              (None, 128)               5914752   \n",
      "_________________________________________________________________\n",
      "activation_16 (Activation)   (None, 128)               0         \n",
      "_________________________________________________________________\n",
      "dense_8 (Dense)              (None, 64)                8256      \n",
      "_________________________________________________________________\n",
      "activation_17 (Activation)   (None, 64)                0         \n",
      "_________________________________________________________________\n",
      "dense_9 (Dense)              (None, 19)                1235      \n",
      "_________________________________________________________________\n",
      "activation_18 (Activation)   (None, 19)                0         \n",
      "=================================================================\n",
      "Total params: 6,017,491\n",
      "Trainable params: 6,017,491\n",
      "Non-trainable params: 0\n",
      "_________________________________________________________________\n"
     ]
    }
   ],
   "source": [
    "model.summary()"
   ]
  },
  {
   "cell_type": "code",
   "execution_count": 33,
   "metadata": {
    "scrolled": true
   },
   "outputs": [
    {
     "name": "stdout",
     "output_type": "stream",
     "text": [
      "Train on 19192 samples, validate on 4799 samples\n",
      "Epoch 1/25\n",
      "19192/19192 [==============================] - 48s 3ms/step - loss: 14.8197 - acc: 0.0806 - val_loss: 14.9056 - val_acc: 0.0752\n",
      "Epoch 2/25\n",
      "19192/19192 [==============================] - 20s 1ms/step - loss: 14.8189 - acc: 0.0806 - val_loss: 14.9056 - val_acc: 0.0752\n",
      "Epoch 3/25\n",
      "19192/19192 [==============================] - 20s 1ms/step - loss: 14.8189 - acc: 0.0806 - val_loss: 14.9056 - val_acc: 0.0752\n",
      "Epoch 4/25\n",
      "19192/19192 [==============================] - 20s 1ms/step - loss: 14.8189 - acc: 0.0806 - val_loss: 14.9056 - val_acc: 0.0752\n",
      "Epoch 5/25\n",
      "19192/19192 [==============================] - 20s 1ms/step - loss: 14.8189 - acc: 0.0806 - val_loss: 14.9056 - val_acc: 0.0752\n",
      "Epoch 6/25\n",
      "19192/19192 [==============================] - 20s 1ms/step - loss: 14.8189 - acc: 0.0806 - val_loss: 14.9056 - val_acc: 0.0752\n",
      "Epoch 7/25\n",
      "19192/19192 [==============================] - 20s 1ms/step - loss: 14.8189 - acc: 0.0806 - val_loss: 14.9056 - val_acc: 0.0752\n",
      "Epoch 8/25\n",
      "19192/19192 [==============================] - 20s 1ms/step - loss: 14.8189 - acc: 0.0806 - val_loss: 14.9056 - val_acc: 0.0752\n",
      "Epoch 9/25\n",
      "19192/19192 [==============================] - 20s 1ms/step - loss: 14.8189 - acc: 0.0806 - val_loss: 14.9056 - val_acc: 0.0752\n",
      "Epoch 10/25\n",
      "19192/19192 [==============================] - 20s 1ms/step - loss: 14.8189 - acc: 0.0806 - val_loss: 14.9056 - val_acc: 0.0752\n",
      "Epoch 11/25\n",
      "19192/19192 [==============================] - 20s 1ms/step - loss: 14.8189 - acc: 0.0806 - val_loss: 14.9056 - val_acc: 0.0752\n",
      "Epoch 12/25\n",
      "19192/19192 [==============================] - 20s 1ms/step - loss: 14.8189 - acc: 0.0806 - val_loss: 14.9056 - val_acc: 0.0752\n",
      "Epoch 13/25\n",
      "19192/19192 [==============================] - 20s 1ms/step - loss: 14.8189 - acc: 0.0806 - val_loss: 14.9056 - val_acc: 0.0752\n",
      "Epoch 14/25\n",
      "19192/19192 [==============================] - 21s 1ms/step - loss: 14.8189 - acc: 0.0806 - val_loss: 14.9056 - val_acc: 0.0752\n",
      "Epoch 15/25\n",
      "19192/19192 [==============================] - 20s 1ms/step - loss: 14.8189 - acc: 0.0806 - val_loss: 14.9056 - val_acc: 0.0752\n",
      "Epoch 16/25\n",
      "19192/19192 [==============================] - 20s 1ms/step - loss: 14.8189 - acc: 0.0806 - val_loss: 14.9056 - val_acc: 0.0752\n",
      "Epoch 17/25\n",
      "19192/19192 [==============================] - 20s 1ms/step - loss: 14.8189 - acc: 0.0806 - val_loss: 14.9056 - val_acc: 0.0752\n",
      "Epoch 18/25\n",
      "19192/19192 [==============================] - 20s 1ms/step - loss: 14.8189 - acc: 0.0806 - val_loss: 14.9056 - val_acc: 0.0752\n",
      "Epoch 19/25\n",
      "19192/19192 [==============================] - 20s 1ms/step - loss: 14.8189 - acc: 0.0806 - val_loss: 14.9056 - val_acc: 0.0752\n",
      "Epoch 20/25\n",
      "19192/19192 [==============================] - 20s 1ms/step - loss: 14.8189 - acc: 0.0806 - val_loss: 14.9056 - val_acc: 0.0752\n",
      "Epoch 21/25\n",
      "19192/19192 [==============================] - 20s 1ms/step - loss: 14.8189 - acc: 0.0806 - val_loss: 14.9056 - val_acc: 0.0752\n",
      "Epoch 22/25\n",
      "19192/19192 [==============================] - 20s 1ms/step - loss: 14.8189 - acc: 0.0806 - val_loss: 14.9056 - val_acc: 0.0752\n",
      "Epoch 23/25\n",
      "19192/19192 [==============================] - 20s 1ms/step - loss: 14.8189 - acc: 0.0806 - val_loss: 14.9056 - val_acc: 0.0752\n",
      "Epoch 24/25\n",
      "19192/19192 [==============================] - 20s 1ms/step - loss: 14.8189 - acc: 0.0806 - val_loss: 14.9056 - val_acc: 0.0752\n",
      "Epoch 25/25\n",
      "19192/19192 [==============================] - 20s 1ms/step - loss: 14.8189 - acc: 0.0806 - val_loss: 14.9056 - val_acc: 0.0752\n"
     ]
    }
   ],
   "source": [
    "history3 = model.fit(X_train, y_train, batch_size=32, validation_data=(X_test, y_test), epochs=25, verbose=1)"
   ]
  },
  {
   "cell_type": "code",
   "execution_count": 34,
   "metadata": {
    "scrolled": true
   },
   "outputs": [
    {
     "name": "stdout",
     "output_type": "stream",
     "text": [
      "4799/4799 [==============================] - 2s 355us/step\n",
      "Model Accuracy: 7.522400498862167\n"
     ]
    }
   ],
   "source": [
    "scores = model.evaluate(X_test, y_test)\n",
    "print(f\"Model Accuracy: {scores[1]*100}\")"
   ]
  },
  {
   "cell_type": "markdown",
   "metadata": {},
   "source": [
    "## Analysis\n",
    "- This score ended up a lot better then I expected. 85% Isn't too shabby considering the validation accuracy of the rice array by itself. Makes me really think that if I could just scale these images up in size I could see better results."
   ]
  },
  {
   "cell_type": "code",
   "execution_count": 35,
   "metadata": {},
   "outputs": [
    {
     "data": {
      "image/png": "[encoded data removed]",
      "text/plain": [
       "<Figure size 864x576 with 1 Axes>"
      ]
     },
     "metadata": {
      "needs_background": "light"
     },
     "output_type": "display_data"
    }
   ],
   "source": [
    "# Check out our train loss and test loss over epochs.\n",
    "train_loss = history2.history['loss']\n",
    "test_loss = history2.history['val_loss']\n",
    "\n",
    "# Set figure size.\n",
    "plt.figure(figsize=(12, 8))\n",
    "\n",
    "# Generate line plot of training, testing loss over epochs.\n",
    "plt.plot(train_loss, label='Training Loss', color='b')\n",
    "plt.plot(test_loss, label='Testing Loss', color='r')\n",
    "\n",
    "# Set title\n",
    "plt.title('Training and Testing Loss with Plantvillage Images', fontsize = 25)\n",
    "plt.xlabel('Epoch', fontsize = 18)\n",
    "plt.ylabel('Categorical Crossentropy', fontsize = 18)\n",
    "plt.xticks(range(25));"
   ]
  },
  {
   "cell_type": "code",
   "execution_count": 36,
   "metadata": {},
   "outputs": [
    {
     "data": {
      "image/png": "[encoded data removed]",
      "text/plain": [
       "<Figure size 864x576 with 1 Axes>"
      ]
     },
     "metadata": {
      "needs_background": "light"
     },
     "output_type": "display_data"
    }
   ],
   "source": [
    "# Check out our train loss and test loss over epochs.\n",
    "train_loss = history1.history['loss']\n",
    "test_loss = history1.history['val_loss']\n",
    "\n",
    "# Set figure size.\n",
    "plt.figure(figsize=(12, 8))\n",
    "\n",
    "# Generate line plot of training, testing loss over epochs.\n",
    "plt.plot(train_loss, label='Training Loss', color='b')\n",
    "plt.plot(test_loss, label='Testing Loss', color='r')\n",
    "\n",
    "# Set title\n",
    "plt.title('Training and Testing Loss with Rice Images', fontsize = 25)\n",
    "plt.xlabel('Epoch', fontsize = 18)\n",
    "plt.ylabel('Categorical Crossentropy', fontsize = 18)\n",
    "plt.xticks(range(25));"
   ]
  },
  {
   "cell_type": "code",
   "execution_count": 37,
   "metadata": {},
   "outputs": [
    {
     "data": {
      "image/png": "[encoded data removed]",
      "text/plain": [
       "<Figure size 864x576 with 1 Axes>"
      ]
     },
     "metadata": {
      "needs_background": "light"
     },
     "output_type": "display_data"
    }
   ],
   "source": [
    "# Check out our train loss and test loss over epochs.\n",
    "train_loss = history3.history['loss']\n",
    "test_loss = history3.history['val_loss']\n",
    "\n",
    "# Set figure size.\n",
    "plt.figure(figsize=(12, 8))\n",
    "\n",
    "# Generate line plot of training, testing loss over epochs.\n",
    "plt.plot(train_loss, label='Training Loss', color='b')\n",
    "plt.plot(test_loss, label='Testing Loss', color='r')\n",
    "\n",
    "# Set title\n",
    "plt.title('Training and Testing Loss with Combined Images', fontsize = 25)\n",
    "plt.xlabel('Epoch', fontsize = 18)\n",
    "plt.ylabel('Categorical Crossentropy', fontsize = 18)\n",
    "plt.xticks(range(25));"
   ]
  }
 ],
 "metadata": {
  "kernelspec": {
   "display_name": "Keras-GPU",
   "language": "python",
   "name": "keras_gpu"
  },
  "language_info": {
   "codemirror_mode": {
    "name": "ipython",
    "version": 3
   },
   "file_extension": ".py",
   "mimetype": "text/x-python",
   "name": "python",
   "nbconvert_exporter": "python",
   "pygments_lexer": "ipython3",
   "version": "3.7.4"
  }
 },
 "nbformat": 4,
 "nbformat_minor": 2
}
