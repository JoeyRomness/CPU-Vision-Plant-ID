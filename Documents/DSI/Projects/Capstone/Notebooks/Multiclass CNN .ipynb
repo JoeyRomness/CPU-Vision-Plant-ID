{
 "cells": [
  {
   "cell_type": "markdown",
   "metadata": {},
   "source": [
    "## Imports"
   ]
  },
  {
   "cell_type": "code",
   "execution_count": 9,
   "metadata": {},
   "outputs": [],
   "source": [
    "import numpy as np\n",
    "import pickle\n",
    "import matplotlib.pyplot as plt\n",
    "from os import listdir\n",
    "import cv2 \n",
    "from keras.models import Sequential\n",
    "from keras.layers import Dense, Dropout, Activation, Flatten\n",
    "from keras.preprocessing import image\n",
    "from keras.preprocessing.image import img_to_array, ImageDataGenerator\n",
    "from sklearn.preprocessing import LabelBinarizer, MultiLabelBinarizer\n",
    "from sklearn.model_selection import train_test_split\n",
    "\n",
    "%matplotlib inline"
   ]
  },
  {
   "cell_type": "markdown",
   "metadata": {},
   "source": [
    "## Functions"
   ]
  },
  {
   "cell_type": "code",
   "execution_count": 2,
   "metadata": {},
   "outputs": [],
   "source": [
    "# This code inspired by muliple different CV2 uses on Stackoverflow and Kaggle\n",
    "image_size = tuple((256, 256)) #Specify what size you want your images to be here\n",
    "# The following function will convert all my images to arrays\n",
    "def arrayify(image_directory):\n",
    "    try:\n",
    "        image = cv2.imread(image_directory) # This will read in an image from the image directory\n",
    "        if image is not None: #If the image exists, do the following:\n",
    "            image = cv2.resize(image, image_size) # Resize the image to whatever image_size is defined as\n",
    "            return img_to_array(image)\n",
    "        else:\n",
    "            return np.array([]) #Else... return an empty array (doing this mostly to prevent NaNs\n",
    "                                # and other forms of data implosion)\n",
    "    except Exception: #If there is an error...\n",
    "        print (f\"Nope!! {Exception}\") #Let me know\n",
    "        return None \n",
    "               "
   ]
  },
  {
   "cell_type": "code",
   "execution_count": 3,
   "metadata": {},
   "outputs": [],
   "source": [
    "# This code inspired by multiple different instances and examples of image preprocessing on\n",
    "# Stackoverflow, Kaggle, and from General Assembly lesson examples\n",
    "def process_images(image_directory): \n",
    "    #Let's instantiate some lists!\n",
    "    image_list = []\n",
    "    label_list = []\n",
    "    try:\n",
    "        print(\"Loading Images ༼ つ ◕_◕ ༽つ\")\n",
    "        actual_folder = listdir(image_directory) # listdir will give me the directory for every folder\n",
    "            # in the given directory, I can then use these directories in my function\n",
    "        for folder in actual_folder:  \n",
    "            if folder == \".DS_Store\": #I don't want .DS_Store to be called for this function\n",
    "                actual_folder.remove(folder)\n",
    "        for image_folder in actual_folder: # For each specific image folder in the main folder...\n",
    "            print(f\"Processing {image_folder}...\")\n",
    "            formatted_image_list = listdir(f\"{image_directory}/{image_folder}/\") #Pull the images out and put them in a list\n",
    "            for image in formatted_image_list: #For each image in the image list\n",
    "                if image == \".DS_Store\":\n",
    "                    formatted_image_list.remove(image)\n",
    "            for image in formatted_image_list:\n",
    "                specific_image = f\"{image_directory}/{image_folder}/{image}\" #Create a specific image\n",
    "                # Variable\n",
    "                if specific_image.lower().endswith(\".jpg\") == True: #So long as the directory ends with\n",
    "                    # .jpg, do the following\n",
    "                    resized_array = arrayify(specific_image) # call the arrayify function on the image\n",
    "                    image_list.append(resized_array) # append the resized array to the image_list var\n",
    "                    label_list.append(image_folder) # Add the folder that the image came from as its \"label\"\n",
    "        print(\"Processing Complete\")\n",
    "        return image_list, label_list\n",
    "                    \n",
    "                \n",
    "                \n",
    "                \n",
    "                    \n",
    "    except: #If there is an error...\n",
    "        print (f\"Nope!! {Exception}\") #Let me know\n",
    "        return None "
   ]
  },
  {
   "cell_type": "markdown",
   "metadata": {},
   "source": [
    "## Processing Image Directories"
   ]
  },
  {
   "cell_type": "code",
   "execution_count": 4,
   "metadata": {
    "scrolled": true
   },
   "outputs": [
    {
     "name": "stdout",
     "output_type": "stream",
     "text": [
      "Loading Images ༼ つ ◕_◕ ༽つ\n",
      "Processing Tomato_healthy...\n",
      "Processing Tomato_Early_blight...\n",
      "Processing Potato_Late_blight...\n",
      "Processing Tomato_Leaf_Mold...\n",
      "Processing Tomato_Spider_mites_Two_spotted_spider_mite...\n",
      "Processing Tomato_Septoria_leaf_spot...\n",
      "Processing Tomato_Tomato_YellowLeaf_Curl_Virus...\n",
      "Processing Potato_Early_blight...\n",
      "Processing Tomato_Tomato_mosaic_virus...\n",
      "Processing Potato_healthy...\n",
      "Processing Pepper_bell_healthy...\n",
      "Processing Pepper_bell_Bacterial_spot...\n",
      "Processing Tomato_Bacterial_spot...\n",
      "Processing Tomato_Late_blight...\n",
      "Processing Tomato_Target_Spot...\n",
      "Processing Complete\n"
     ]
    }
   ],
   "source": [
    "plant_village_arrays, plant_village_labels = process_images(\"./Images/PlantVillage\")"
   ]
  },
  {
   "cell_type": "code",
   "execution_count": 5,
   "metadata": {
    "scrolled": false
   },
   "outputs": [
    {
     "name": "stdout",
     "output_type": "stream",
     "text": [
      "Processed 20636 Images from the Plantvillage Dataset, Size (256, 256)\n",
      "Labels for the Plantvillage Dataset are as follows: \n",
      " {'Tomato_Leaf_Mold', 'Potato_Late_blight', 'Tomato_Tomato_YellowLeaf_Curl_Virus', 'Potato_Early_blight', 'Tomato_Septoria_leaf_spot', 'Tomato_Late_blight', 'Tomato_Early_blight', 'Pepper_bell_Bacterial_spot', 'Potato_healthy', 'Tomato_Bacterial_spot', 'Pepper_bell_healthy', 'Tomato_Target_Spot', 'Tomato_Tomato_mosaic_virus', 'Tomato_Spider_mites_Two_spotted_spider_mite', 'Tomato_healthy'}\n"
     ]
    }
   ],
   "source": [
    "print(f\"Processed {len(plant_village_arrays)} Images from the Plantvillage Dataset, Size {image_size}\")\n",
    "print(f\"Labels for the Plantvillage Dataset are as follows: \\n {set(plant_village_labels)}\")"
   ]
  },
  {
   "cell_type": "code",
   "execution_count": 6,
   "metadata": {
    "scrolled": false
   },
   "outputs": [
    {
     "name": "stdout",
     "output_type": "stream",
     "text": [
      "Loading Images ༼ つ ◕_◕ ༽つ\n",
      "Processing rice_Hispa...\n",
      "Processing rice_Leaf_Blast...\n",
      "Processing rice_Healthy...\n",
      "Processing rice_Brown_Spot...\n",
      "Processing Complete\n"
     ]
    }
   ],
   "source": [
    "rice_arrays, rice_labels = process_images('./Images/Rice')"
   ]
  },
  {
   "cell_type": "code",
   "execution_count": 7,
   "metadata": {
    "scrolled": true
   },
   "outputs": [
    {
     "name": "stdout",
     "output_type": "stream",
     "text": [
      "Processed 3355 Images from the Rice Dataset, Size (256, 256)\n",
      "Labels for the Rice Dataset are as follows: \n",
      " {'rice_Leaf_Blast', 'rice_Hispa', 'rice_Brown_Spot', 'rice_Healthy'}\n"
     ]
    }
   ],
   "source": [
    "print(f\"Processed {len(rice_arrays)} Images from the Rice Dataset, Size {image_size}\")\n",
    "print(f\"Labels for the Rice Dataset are as follows: \\n {set(rice_labels)}\")"
   ]
  },
  {
   "cell_type": "markdown",
   "metadata": {},
   "source": [
    "## "
   ]
  },
  {
   "cell_type": "code",
   "execution_count": null,
   "metadata": {},
   "outputs": [],
   "source": []
  },
  {
   "cell_type": "code",
   "execution_count": null,
   "metadata": {},
   "outputs": [],
   "source": []
  },
  {
   "cell_type": "code",
   "execution_count": null,
   "metadata": {},
   "outputs": [],
   "source": []
  }
 ],
 "metadata": {
  "kernelspec": {
   "display_name": "Python 3",
   "language": "python",
   "name": "python3"
  },
  "language_info": {
   "codemirror_mode": {
    "name": "ipython",
    "version": 3
   },
   "file_extension": ".py",
   "mimetype": "text/x-python",
   "name": "python",
   "nbconvert_exporter": "python",
   "pygments_lexer": "ipython3",
   "version": "3.7.3"
  }
 },
 "nbformat": 4,
 "nbformat_minor": 2
}
